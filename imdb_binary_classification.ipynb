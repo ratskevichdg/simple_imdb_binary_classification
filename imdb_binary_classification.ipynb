{
 "cells": [
  {
   "cell_type": "code",
   "execution_count": 1,
   "metadata": {},
   "outputs": [],
   "source": [
    "# Launch this if you work on new macbook\n",
    "import os\n",
    "\n",
    "os.environ['KMP_DUPLICATE_LIB_OK']='True'"
   ]
  },
  {
   "cell_type": "markdown",
   "metadata": {},
   "source": [
    "### Downolad imdb data from keras.datasets (save only 10 000 words)"
   ]
  },
  {
   "cell_type": "code",
   "execution_count": 2,
   "metadata": {},
   "outputs": [
    {
     "name": "stderr",
     "output_type": "stream",
     "text": [
      "Using TensorFlow backend.\n"
     ]
    }
   ],
   "source": [
    "from keras.datasets import imdb"
   ]
  },
  {
   "cell_type": "code",
   "execution_count": 3,
   "metadata": {},
   "outputs": [],
   "source": [
    "# To get the training and test kits, we download and split the dataset\n",
    "(train_data, train_labels), (test_data, test_labels) = imdb.load_data(num_words=10000)"
   ]
  },
  {
   "cell_type": "markdown",
   "metadata": {},
   "source": [
    "### Data preparing"
   ]
  },
  {
   "cell_type": "code",
   "execution_count": 4,
   "metadata": {},
   "outputs": [],
   "source": [
    "# Binary encoding of integer sequences\n",
    "import numpy as np\n",
    "\n",
    "def vectorize_sequences(sequneces, dimension=10000):\n",
    "    # Creating array with shape (len(sequences), dimension)\n",
    "    results = np.zeros((len(sequneces), dimension))\n",
    "    for i, sequnece in enumerate(sequneces):\n",
    "        # Writing a 1 in an element with a specified index\n",
    "        results[i, sequnece] = 1\n",
    "    return results\n",
    "\n",
    "X_train = vectorize_sequences(train_data)\n",
    "X_test = vectorize_sequences(test_data)"
   ]
  },
  {
   "cell_type": "code",
   "execution_count": 5,
   "metadata": {},
   "outputs": [
    {
     "data": {
      "text/plain": [
       "array([0., 1., 1., ..., 0., 0., 0.])"
      ]
     },
     "execution_count": 5,
     "metadata": {},
     "output_type": "execute_result"
    }
   ],
   "source": [
    "# Check how the samples looks like\n",
    "X_train[0]"
   ]
  },
  {
   "cell_type": "code",
   "execution_count": 6,
   "metadata": {},
   "outputs": [],
   "source": [
    "# Vectorize the labels\n",
    "y_train = np.asarray(train_labels).astype('float32')\n",
    "y_test = np.asarray(test_labels).astype('float32')"
   ]
  },
  {
   "cell_type": "markdown",
   "metadata": {},
   "source": [
    "### Model definition"
   ]
  },
  {
   "cell_type": "code",
   "execution_count": 7,
   "metadata": {},
   "outputs": [],
   "source": [
    "from keras.models import Sequential\n",
    "from keras.layers import Dense\n",
    "\n",
    "from numpy.random import seed\n",
    "seed(92)"
   ]
  },
  {
   "cell_type": "code",
   "execution_count": 13,
   "metadata": {},
   "outputs": [],
   "source": [
    "model = Sequential()\n",
    "model.add(Dense(16, activation='relu', input_shape=(10000,)))\n",
    "model.add(Dense(16, activation='relu'))\n",
    "model.add(Dense(1, activation='sigmoid'))\n",
    "\n",
    "model.compile(optimizer='adam',\n",
    "              loss='binary_crossentropy',\n",
    "              metrics=['accuracy'])"
   ]
  },
  {
   "cell_type": "code",
   "execution_count": 14,
   "metadata": {},
   "outputs": [],
   "source": [
    "# Create validation data\n",
    "X_val = X_train[:10000]\n",
    "partial_x_train = X_train[10000:]\n",
    "\n",
    "y_val = y_train[:10000]\n",
    "partial_y_train = y_train[10000:]"
   ]
  },
  {
   "cell_type": "markdown",
   "metadata": {},
   "source": [
    "### Fit the model"
   ]
  },
  {
   "cell_type": "code",
   "execution_count": 15,
   "metadata": {},
   "outputs": [
    {
     "name": "stdout",
     "output_type": "stream",
     "text": [
      "Train on 15000 samples, validate on 10000 samples\n",
      "Epoch 1/20\n",
      "15000/15000 [==============================] - 3s 214us/step - loss: 0.5844 - accuracy: 0.7423 - val_loss: 0.4477 - val_accuracy: 0.8474\n",
      "Epoch 2/20\n",
      "15000/15000 [==============================] - 1s 88us/step - loss: 0.3381 - accuracy: 0.8918 - val_loss: 0.3097 - val_accuracy: 0.8826\n",
      "Epoch 3/20\n",
      "15000/15000 [==============================] - 1s 76us/step - loss: 0.2235 - accuracy: 0.9286 - val_loss: 0.2784 - val_accuracy: 0.8889\n",
      "Epoch 4/20\n",
      "15000/15000 [==============================] - 1s 75us/step - loss: 0.1655 - accuracy: 0.9482 - val_loss: 0.2787 - val_accuracy: 0.8886\n",
      "Epoch 5/20\n",
      "15000/15000 [==============================] - 1s 74us/step - loss: 0.1263 - accuracy: 0.9632 - val_loss: 0.2887 - val_accuracy: 0.8872\n",
      "Epoch 6/20\n",
      "15000/15000 [==============================] - 1s 82us/step - loss: 0.0959 - accuracy: 0.9757 - val_loss: 0.3071 - val_accuracy: 0.8834\n",
      "Epoch 7/20\n",
      "15000/15000 [==============================] - 1s 83us/step - loss: 0.0731 - accuracy: 0.9844 - val_loss: 0.3310 - val_accuracy: 0.8812\n",
      "Epoch 8/20\n",
      "15000/15000 [==============================] - 1s 85us/step - loss: 0.0548 - accuracy: 0.9893 - val_loss: 0.3573 - val_accuracy: 0.8794\n",
      "Epoch 9/20\n",
      "15000/15000 [==============================] - 1s 85us/step - loss: 0.0406 - accuracy: 0.9939 - val_loss: 0.3865 - val_accuracy: 0.8774\n",
      "Epoch 10/20\n",
      "15000/15000 [==============================] - 1s 83us/step - loss: 0.0299 - accuracy: 0.9961 - val_loss: 0.4163 - val_accuracy: 0.8744\n",
      "Epoch 11/20\n",
      "15000/15000 [==============================] - 1s 81us/step - loss: 0.0222 - accuracy: 0.9983 - val_loss: 0.4430 - val_accuracy: 0.8734\n",
      "Epoch 12/20\n",
      "15000/15000 [==============================] - 1s 83us/step - loss: 0.0164 - accuracy: 0.9995 - val_loss: 0.4727 - val_accuracy: 0.8720\n",
      "Epoch 13/20\n",
      "15000/15000 [==============================] - 1s 84us/step - loss: 0.0122 - accuracy: 0.9998 - val_loss: 0.4948 - val_accuracy: 0.8701\n",
      "Epoch 14/20\n",
      "15000/15000 [==============================] - 1s 84us/step - loss: 0.0094 - accuracy: 0.9999 - val_loss: 0.5170 - val_accuracy: 0.8700\n",
      "Epoch 15/20\n",
      "15000/15000 [==============================] - 1s 84us/step - loss: 0.0073 - accuracy: 0.9999 - val_loss: 0.5385 - val_accuracy: 0.8686\n",
      "Epoch 16/20\n",
      "15000/15000 [==============================] - 1s 83us/step - loss: 0.0058 - accuracy: 0.9999 - val_loss: 0.5571 - val_accuracy: 0.8685\n",
      "Epoch 17/20\n",
      "15000/15000 [==============================] - 1s 83us/step - loss: 0.0047 - accuracy: 0.9999 - val_loss: 0.5761 - val_accuracy: 0.8686\n",
      "Epoch 18/20\n",
      "15000/15000 [==============================] - 1s 81us/step - loss: 0.0039 - accuracy: 0.9999 - val_loss: 0.5930 - val_accuracy: 0.8677\n",
      "Epoch 19/20\n",
      "15000/15000 [==============================] - 1s 81us/step - loss: 0.0033 - accuracy: 0.9999 - val_loss: 0.6067 - val_accuracy: 0.8667\n",
      "Epoch 20/20\n",
      "15000/15000 [==============================] - 1s 81us/step - loss: 0.0028 - accuracy: 0.9999 - val_loss: 0.6197 - val_accuracy: 0.8668\n"
     ]
    }
   ],
   "source": [
    "history = model.fit(partial_x_train, \n",
    "                    partial_y_train, \n",
    "                    epochs=20, \n",
    "                    batch_size=512, \n",
    "                    validation_data=(X_val, y_val))"
   ]
  },
  {
   "cell_type": "markdown",
   "metadata": {},
   "source": [
    "### Creating loss charts at the training and verification stages"
   ]
  },
  {
   "cell_type": "code",
   "execution_count": 16,
   "metadata": {},
   "outputs": [
    {
     "data": {
      "image/png": "[encoded data removed]",
      "text/plain": [
       "<Figure size 432x288 with 1 Axes>"
      ]
     },
     "metadata": {
      "needs_background": "light"
     },
     "output_type": "display_data"
    }
   ],
   "source": [
    "import matplotlib.pyplot as plt\n",
    "%matplotlib inline\n",
    "\n",
    "history_dict = history.history\n",
    "loss_values = history_dict['loss']\n",
    "val_loss_values = history_dict['val_loss']\n",
    "\n",
    "epochs = range(1, len(history_dict['loss']) + 1)\n",
    "\n",
    "plt.plot(epochs, loss_values, 'bo', label='Training loss')\n",
    "plt.plot(epochs, val_loss_values, 'b', label='Validation loss')\n",
    "plt.title('Training and validation loss')\n",
    "plt.xlabel('Epochs')\n",
    "plt.ylabel('Loss')\n",
    "plt.legend()\n",
    "plt.show()"
   ]
  },
  {
   "cell_type": "code",
   "execution_count": 17,
   "metadata": {},
   "outputs": [
    {
     "data": {
      "image/png": "[encoded data removed]",
      "text/plain": [
       "<Figure size 432x288 with 1 Axes>"
      ]
     },
     "metadata": {
      "needs_background": "light"
     },
     "output_type": "display_data"
    }
   ],
   "source": [
    "acc_values = history_dict['accuracy']\n",
    "val_acc_values = history_dict['val_accuracy']\n",
    "plt.plot(epochs, acc_values, 'ro', label='Training accuracy')\n",
    "plt.plot(epochs, val_acc_values, 'r', label='Validation accuracy')\n",
    "plt.title('Training and validation accuracy')\n",
    "plt.xlabel('Epochs')\n",
    "plt.ylabel('Accuracy')\n",
    "plt.legend()\n",
    "plt.show()"
   ]
  },
  {
   "cell_type": "code",
   "execution_count": null,
   "metadata": {},
   "outputs": [],
   "source": []
  }
 ],
 "metadata": {
  "kernelspec": {
   "display_name": "Python 3",
   "language": "python",
   "name": "python3"
  },
  "language_info": {
   "codemirror_mode": {
    "name": "ipython",
    "version": 3
   },
   "file_extension": ".py",
   "mimetype": "text/x-python",
   "name": "python",
   "nbconvert_exporter": "python",
   "pygments_lexer": "ipython3",
   "version": "3.7.4"
  }
 },
 "nbformat": 4,
 "nbformat_minor": 2
}
